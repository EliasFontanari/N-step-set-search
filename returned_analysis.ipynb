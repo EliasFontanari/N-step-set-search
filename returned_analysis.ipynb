{
 "cells": [
  {
   "cell_type": "code",
   "execution_count": 38,
   "metadata": {},
   "outputs": [],
   "source": [
    "import numpy as np\n",
    "import pickle\n",
    "import os\n",
    "import matplotlib.pyplot as plt"
   ]
  },
  {
   "cell_type": "code",
   "execution_count": 29,
   "metadata": {},
   "outputs": [],
   "source": [
    "def load(filename):\n",
    "    with open(filename, 'rb') as file:\n",
    "        loaded_data = pickle.load(file)\n",
    "    return loaded_data"
   ]
  },
  {
   "cell_type": "code",
   "execution_count": 30,
   "metadata": {},
   "outputs": [
    {
     "data": {
      "text/plain": [
       "'/home/elias/Documents/Optim/set-verify-z1'"
      ]
     },
     "execution_count": 30,
     "metadata": {},
     "output_type": "execute_result"
    }
   ],
   "source": [
    "os.getcwd() \n"
   ]
  },
  {
   "cell_type": "code",
   "execution_count": 33,
   "metadata": {},
   "outputs": [
    {
     "name": "stdout",
     "output_type": "stream",
     "text": [
      "/home/elias/Documents/Optim/set-verify-z1/N-steps results\n"
     ]
    }
   ],
   "source": [
    "data_folder = os.path.join(os.getcwd(),'N-steps results') \n",
    "print(data_folder)\n",
    "successes = load(os.path.join(data_folder,'x0_solved2024-12-11 11:51:33.753560.pkl'))\n",
    "failures = load(os.path.join(data_folder,'x0_failed2024-12-11 11:51:33.753560.pkl'))\n"
   ]
  },
  {
   "cell_type": "code",
   "execution_count": 35,
   "metadata": {},
   "outputs": [
    {
     "data": {
      "text/plain": [
       "[array([ 2.09180178,  2.47595299, -1.65399231,  0.53305134,  1.56701425,\n",
       "        -3.1415    ]),\n",
       " 1]"
      ]
     },
     "execution_count": 35,
     "metadata": {},
     "output_type": "execute_result"
    }
   ],
   "source": [
    "len(successes)\n",
    "successes[0]"
   ]
  },
  {
   "cell_type": "code",
   "execution_count": 43,
   "metadata": {},
   "outputs": [
    {
     "data": {
      "image/png": "[encoded data removed]",
      "text/plain": [
       "<Figure size 640x480 with 1 Axes>"
      ]
     },
     "metadata": {},
     "output_type": "display_data"
    }
   ],
   "source": [
    "steps_to_return = []\n",
    "for k in range(len(successes)):\n",
    "    steps_to_return.append(successes[k][1])\n",
    "max(steps_to_return)\n",
    "steps_to_return = np.array(steps_to_return)\n",
    "steps_to_return = steps_to_return[steps_to_return<5]\n",
    "\n",
    "plt.hist(steps_to_return, bins=50, color='blue', edgecolor='black');"
   ]
  }
 ],
 "metadata": {
  "kernelspec": {
   "display_name": "Python 3",
   "language": "python",
   "name": "python3"
  },
  "language_info": {
   "codemirror_mode": {
    "name": "ipython",
    "version": 3
   },
   "file_extension": ".py",
   "mimetype": "text/x-python",
   "name": "python",
   "nbconvert_exporter": "python",
   "pygments_lexer": "ipython3",
   "version": "3.10.12"
  }
 },
 "nbformat": 4,
 "nbformat_minor": 2
}
