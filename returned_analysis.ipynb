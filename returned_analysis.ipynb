{
 "cells": [
  {
   "cell_type": "code",
   "execution_count": 1,
   "metadata": {},
   "outputs": [],
   "source": [
    "import numpy as np\n",
    "import pickle\n",
    "import os\n",
    "import matplotlib.pyplot as plt"
   ]
  },
  {
   "cell_type": "code",
   "execution_count": 2,
   "metadata": {},
   "outputs": [],
   "source": [
    "def load(filename):\n",
    "    with open(filename, 'rb') as file:\n",
    "        loaded_data = pickle.load(file)\n",
    "    return loaded_data"
   ]
  },
  {
   "cell_type": "code",
   "execution_count": 3,
   "metadata": {},
   "outputs": [
    {
     "data": {
      "text/plain": [
       "'/home/elias/Documents/Optim/set-verify-z1'"
      ]
     },
     "execution_count": 3,
     "metadata": {},
     "output_type": "execute_result"
    }
   ],
   "source": [
    "os.getcwd() \n"
   ]
  },
  {
   "cell_type": "code",
   "execution_count": 7,
   "metadata": {},
   "outputs": [],
   "source": [
    "data_folder = os.path.join(os.getcwd(),'N-steps results') \n",
    "#print(data_folder)\n",
    "successes = load(os.path.join(data_folder,'x0_solved2024-12-17 17:53:08.714467.pkl'))\n",
    "failures  = load(os.path.join(data_folder,'x0_failed2024-12-13 07:14:13.265468.pkl'))\n"
   ]
  },
  {
   "cell_type": "code",
   "execution_count": 8,
   "metadata": {},
   "outputs": [
    {
     "data": {
      "text/plain": [
       "99995"
      ]
     },
     "execution_count": 8,
     "metadata": {},
     "output_type": "execute_result"
    }
   ],
   "source": [
    "len(successes)\n"
   ]
  },
  {
   "cell_type": "code",
   "execution_count": 8,
   "metadata": {},
   "outputs": [
    {
     "data": {
      "text/plain": [
       "10"
      ]
     },
     "execution_count": 8,
     "metadata": {},
     "output_type": "execute_result"
    },
    {
     "data": {
      "image/png": "[encoded data removed]",
      "text/plain": [
       "<Figure size 640x480 with 1 Axes>"
      ]
     },
     "metadata": {},
     "output_type": "display_data"
    }
   ],
   "source": [
    "steps_to_return = []\n",
    "for k in range(len(successes)):\n",
    "    steps_to_return.append(successes[k][1])\n",
    "steps_to_return = np.array(steps_to_return)\n",
    "steps_to_return = steps_to_return[steps_to_return>7]\n",
    "steps_to_return = steps_to_return[steps_to_return<14]\n",
    "\n",
    "\n",
    "plt.hist(steps_to_return, bins=50, color='blue', edgecolor='black')\n",
    "max(steps_to_return)\n"
   ]
  },
  {
   "cell_type": "code",
   "execution_count": 47,
   "metadata": {},
   "outputs": [],
   "source": [
    "data_folder2 = os.path.join(os.getcwd(),'N-NN-steps-results') \n",
    "failed_NN = load(data_folder2+'/x0_failed2024-12-16 14:02:35.425899.pkl')"
   ]
  },
  {
   "cell_type": "code",
   "execution_count": 48,
   "metadata": {},
   "outputs": [
    {
     "data": {
      "text/plain": [
       "[array([ 0.13411825,  0.98223218, -0.40115903,  1.22715084, -2.55810838,\n",
       "        -0.43249784,  2.01756378,  1.17200144]),\n",
       " array([ 0.1854073 ,  1.35652205, -2.16351439,  1.51826869,  1.22112314,\n",
       "        -1.39771981, -1.88430965,  2.58711775]),\n",
       " array([-0.90810538,  1.61367382, -2.30248746,  1.51766932,  1.92080548,\n",
       "         0.75947557,  1.01419295,  2.02198041]),\n",
       " array([-2.05066316,  0.76768643, -1.89349137,  1.5179515 ,  1.51931699,\n",
       "         1.25303445,  0.03773501,  2.6335027 ]),\n",
       " array([ 2.06290398,  1.44776037, -0.41649472,  1.51396402,  2.23016641,\n",
       "         0.64597697,  0.77238473,  2.21312379]),\n",
       " array([-0.0874157 ,  0.80822491, -1.47713842,  1.51621255, -0.92971003,\n",
       "        -1.33776373, -0.2086188 ,  2.45400516]),\n",
       " array([-2.44784062,  0.43724953, -0.29840549,  0.78383226,  0.6718893 ,\n",
       "        -0.21453925, -0.06256418,  1.741659  ]),\n",
       " array([-2.14763285,  2.61084341, -2.87696093, -0.20629078, -0.15614983,\n",
       "        -0.34923198, -2.49803129, -2.62565436]),\n",
       " array([-1.82800908,  2.45335994, -2.4298035 , -1.5126498 , -0.14299374,\n",
       "        -0.41319588,  1.04089654, -2.0552688 ])]"
      ]
     },
     "execution_count": 48,
     "metadata": {},
     "output_type": "execute_result"
    }
   ],
   "source": [
    "failed_NN"
   ]
  }
 ],
 "metadata": {
  "kernelspec": {
   "display_name": "Python 3",
   "language": "python",
   "name": "python3"
  },
  "language_info": {
   "codemirror_mode": {
    "name": "ipython",
    "version": 3
   },
   "file_extension": ".py",
   "mimetype": "text/x-python",
   "name": "python",
   "nbconvert_exporter": "python",
   "pygments_lexer": "ipython3",
   "version": "3.10.12"
  }
 },
 "nbformat": 4,
 "nbformat_minor": 2
}
